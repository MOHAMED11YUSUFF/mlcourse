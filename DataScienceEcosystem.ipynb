{
 "cells": [
  {
   "cell_type": "markdown",
   "id": "947120e7-6191-4e90-8fc7-6c988047c3fa",
   "metadata": {},
   "source": [
    "# Data Science Tools and Ecosystem"
   ]
  },
  {
   "cell_type": "markdown",
   "id": "2cb590b3-2b73-4f50-94a4-396dae4c57fd",
   "metadata": {},
   "source": [
    "In this notebook, Data Science Tools and Ecosystem are summarized"
   ]
  },
  {
   "cell_type": "markdown",
   "id": "ff726b63-d4e8-4442-a7cc-33f64284ad68",
   "metadata": {},
   "source": [
    "Some of the popular languages that Data Scientists use are:\n",
    "1. python\n",
    "2. java\n",
    "3. c++"
   ]
  },
  {
   "cell_type": "markdown",
   "id": "d87efd03-c62b-412d-8db8-190d1ff5eba5",
   "metadata": {},
   "source": [
    "commonly used libraries used by Data Scientists include:\n",
    "1. numpy\n",
    "2. ggplot\n",
    "3. matplotlib"
   ]
  },
  {
   "cell_type": "markdown",
   "id": "4fb3f2bf-d2cd-473a-aedf-d552924cfaef",
   "metadata": {},
   "source": [
    "|Data Science Tools|\n",
    "|---|\n",
    "|jupyter|\n",
    "|anaconda|\n",
    "|Mysql|"
   ]
  },
  {
   "cell_type": "markdown",
   "id": "366ad343-3010-4de7-a0a9-108d35280900",
   "metadata": {},
   "source": [
    "### Below are a few examples of evaluating arithmetic expressions in Python."
   ]
  },
  {
   "cell_type": "code",
   "execution_count": 3,
   "id": "1e9ed567-c965-471c-af6d-9d6dd8d597ff",
   "metadata": {},
   "outputs": [
    {
     "data": {
      "text/plain": [
       "17"
      ]
     },
     "execution_count": 3,
     "metadata": {},
     "output_type": "execute_result"
    }
   ],
   "source": [
    "(3*4)+5"
   ]
  },
  {
   "cell_type": "code",
   "execution_count": 4,
   "id": "9147c7e7-9a4b-4e5d-9d2f-971a050406ad",
   "metadata": {},
   "outputs": [
    {
     "name": "stdout",
     "output_type": "stream",
     "text": [
      "3.3333333333333335\n"
     ]
    }
   ],
   "source": [
    "min=200\n",
    "#This will convert 200 minutes to hours by diving by 60.\n",
    "hrs=min/60\n",
    "print(hrs)"
   ]
  },
  {
   "cell_type": "markdown",
   "id": "737fa8f4-a73c-4736-9859-45f104ca7193",
   "metadata": {},
   "source": [
    "__Objectives:__\n",
    "+ what is notebook\n",
    "+ advantages of notebook\n",
    "+ ways to access notebook\n",
    "+ python\n",
    "+ java"
   ]
  },
  {
   "cell_type": "markdown",
   "id": "1fb5338a-e5d6-4a10-a724-dbf58eb277e0",
   "metadata": {},
   "source": [
    "## Author\n",
    "MOHAMED YUSUFF"
   ]
  },
  {
   "cell_type": "code",
   "execution_count": null,
   "id": "d4b995db-eaef-4bb3-adc3-fe99ddec6955",
   "metadata": {},
   "outputs": [],
   "source": []
  }
 ],
 "metadata": {
  "kernelspec": {
   "display_name": "Python 3 (ipykernel)",
   "language": "python",
   "name": "python3"
  },
  "language_info": {
   "codemirror_mode": {
    "name": "ipython",
    "version": 3
   },
   "file_extension": ".py",
   "mimetype": "text/x-python",
   "name": "python",
   "nbconvert_exporter": "python",
   "pygments_lexer": "ipython3",
   "version": "3.11.9"
  }
 },
 "nbformat": 4,
 "nbformat_minor": 5
}
